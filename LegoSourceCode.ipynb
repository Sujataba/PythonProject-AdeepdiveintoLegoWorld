{
 "cells": [
  {
   "attachments": {},
   "cell_type": "markdown",
   "id": "d46b75c0",
   "metadata": {},
   "source": [
    "# Let's dive into the Lego world!\n"
   ]
  },
  {
   "cell_type": "markdown",
   "id": "ee0a3f1d",
   "metadata": {},
   "source": [
    "###  Reading Data"
   ]
  },
  {
   "cell_type": "code",
   "execution_count": null,
   "id": "7a6b3c5e",
   "metadata": {},
   "outputs": [],
   "source": [
    "cd C:\\\\Lego-Datasets\\\\datasets"
   ]
  },
  {
   "cell_type": "code",
   "execution_count": null,
   "id": "b6bddd8f",
   "metadata": {},
   "outputs": [],
   "source": [
    "# Import pandas\n",
    "import pandas as pd\n",
    "\n",
    "pd.set_option('display.max_rows',None)\n",
    "pd.set_option('display.max_columns',None)\n",
    "# Read colors data   Dataset location on local system - 'C:\\\\Lego-Datasets\\\\datasets'\n",
    "colors=pd.read_csv('colors.csv')\n",
    "sets=pd.read_csv('sets.csv')\n",
    "themes=pd.read_csv('themes.csv')\n",
    "inventory_parts=pd.read_csv('inventory_parts.csv')\n"
   ]
  },
  {
   "cell_type": "markdown",
   "id": "5306e5c9",
   "metadata": {},
   "source": [
    "### Exploratory Data Analysis"
   ]
  },
  {
   "cell_type": "code",
   "execution_count": null,
   "id": "f39e0e49",
   "metadata": {},
   "outputs": [],
   "source": [
    "def check_data(df):\n",
    "    print(\"Dataset info:\",'\\n' )\n",
    "    print(df.info(),'\\n')\n",
    "    print(\"Initial 5 Rows: \\n\", df.head(),'\\n')\n",
    "    print(\"Duplicate Values: \\n\", df.duplicated().sum(),'\\n')\n",
    "    print(\"Null Values: \\n\", df.isna().sum(),'\\n')\n",
    "    print('Unique values per column: \\n', df.nunique(),'\\n')\n",
    "    print(\"Descriptive statistics: \\n\", df.describe())"
   ]
  },
  {
   "cell_type": "code",
   "execution_count": null,
   "id": "e0de3fd7",
   "metadata": {},
   "outputs": [],
   "source": [
    "check_data(colors)"
   ]
  },
  {
   "cell_type": "code",
   "execution_count": null,
   "id": "285ae8a9",
   "metadata": {},
   "outputs": [],
   "source": [
    "check_data(sets)"
   ]
  },
  {
   "cell_type": "code",
   "execution_count": null,
   "id": "22b8d3b5",
   "metadata": {},
   "outputs": [],
   "source": [
    "check_data(themes)"
   ]
  },
  {
   "cell_type": "code",
   "execution_count": null,
   "id": "61ffa644",
   "metadata": {},
   "outputs": [],
   "source": [
    "check_data(inventory_parts)"
   ]
  },
  {
   "cell_type": "code",
   "execution_count": null,
   "id": "cc02ba52",
   "metadata": {
    "scrolled": true
   },
   "outputs": [],
   "source": [
    "#Checking color distribution in inventory\n",
    "\n",
    "import seaborn as sns\n",
    "import matplotlib.pyplot as plt\n",
    "print('Figure 1.')\n",
    "inventory_parts['color_id'].value_counts().plot(kind='bar',figsize=(20,10))"
   ]
  },
  {
   "cell_type": "markdown",
   "id": "cced37f5",
   "metadata": {},
   "source": [
    "##### Graph shows certain colours mostly used among all sets compared to other colors"
   ]
  },
  {
   "cell_type": "markdown",
   "id": "a5257c27",
   "metadata": {},
   "source": [
    "## What is the number of Lego sets released per year?"
   ]
  },
  {
   "cell_type": "code",
   "execution_count": null,
   "id": "6f250b0c",
   "metadata": {},
   "outputs": [],
   "source": [
    "\n",
    "# Create a summary of average number of sets by year: `sets_by_year`\n",
    "sets_by_year= sets.groupby('year').set_num.count()\n",
    "sets_by_year\n",
    "\n",
    "# Plot trends in average number of sets by year\n",
    "sns.set_style(\"darkgrid\", {\"grid.color\": \".6\", \"grid.linestyle\": \":\"})\n",
    "print('Figure 2.')\n",
    "lines = sets_by_year.plot.line()"
   ]
  },
  {
   "cell_type": "code",
   "execution_count": null,
   "id": "aa19c940",
   "metadata": {},
   "outputs": [],
   "source": [
    "avg_sets_by_year= sets.groupby('year').set_num.count()\n",
    "avg_sets_by_year.mean()"
   ]
  },
  {
   "cell_type": "markdown",
   "id": "9da9eb3a",
   "metadata": {},
   "source": [
    "## What is the average number of Lego parts per year?"
   ]
  },
  {
   "cell_type": "code",
   "execution_count": null,
   "id": "c4a76aca",
   "metadata": {},
   "outputs": [],
   "source": [
    "# Create a summary of average number of parts by year: `parts_by_year`\n",
    "parts_by_year= sets.groupby('year')['num_parts'].mean().round(2)\n",
    "\n",
    "# Plot trends in average number of parts by year\n",
    "print('Figure 3.')\n",
    "lines = parts_by_year.plot.line()"
   ]
  },
  {
   "cell_type": "code",
   "execution_count": null,
   "id": "bee04ae9",
   "metadata": {},
   "outputs": [],
   "source": [
    "parts_by_year.mean()"
   ]
  },
  {
   "cell_type": "markdown",
   "id": "dbb5a7a9",
   "metadata": {},
   "source": [
    "## How the number of themes shipped has varied over the years?"
   ]
  },
  {
   "cell_type": "code",
   "execution_count": null,
   "id": "25ffa0a8",
   "metadata": {},
   "outputs": [],
   "source": [
    "# Create a summary of average number of themes per year: `themes_by_year`\n",
    "# themes_by_year: Number of themes shipped by year\n",
    "themes_by_year = sets.groupby('year')['theme_id'].nunique()\n",
    "themes_by_year\n",
    "print('Figure 4.')\n",
    "lines = themes_by_year.plot.line()"
   ]
  },
  {
   "cell_type": "code",
   "execution_count": null,
   "id": "e4b9020a",
   "metadata": {},
   "outputs": [],
   "source": [
    "themes_by_year.mean()"
   ]
  },
  {
   "cell_type": "markdown",
   "id": "6d4ba68c",
   "metadata": {},
   "source": [
    "## How many unique color lego bricks are available? \n"
   ]
  },
  {
   "cell_type": "code",
   "execution_count": null,
   "id": "bc6f1e0d",
   "metadata": {},
   "outputs": [],
   "source": [
    "# How many distinct colors are available?\n",
    "num_colors = len(pd.unique(colors['name']))\n",
    "# Print num_colors\n",
    "print(\"No.of.unique values :\", \n",
    "      num_colors)\n"
   ]
  },
  {
   "cell_type": "markdown",
   "id": "504005de",
   "metadata": {},
   "source": [
    "## What is the distribution of transparent vs. non-transparent colors?"
   ]
  },
  {
   "cell_type": "code",
   "execution_count": null,
   "id": "a987fc59",
   "metadata": {},
   "outputs": [],
   "source": [
    "# colors_summary: Distribution of colors based on transparency\n",
    "\n",
    "colors_summary = colors.groupby('is_trans').count()\n",
    "colors_summary\n"
   ]
  },
  {
   "cell_type": "markdown",
   "id": "6107a688",
   "metadata": {},
   "source": [
    "##  What are the 5 most popular colors used in Lego parts?"
   ]
  },
  {
   "cell_type": "code",
   "execution_count": null,
   "id": "cd484d9b",
   "metadata": {},
   "outputs": [],
   "source": [
    "# merging datasets inventory_parts and colors to get the name of the highest used color bricks\n",
    "mergedf=pd.merge(inventory_parts,colors, left_on='color_id', right_on='id')\n",
    "mergedf.head()   "
   ]
  },
  {
   "cell_type": "code",
   "execution_count": null,
   "id": "e3564595",
   "metadata": {},
   "outputs": [],
   "source": [
    "# top 5 colors\n",
    "top_5_colors=mergedf.groupby(['name'])['quantity'].sum().sort_values(ascending=False).head()\n",
    "top_5_colors=pd.DataFrame(top_5_colors)\n",
    "top_5_colors.rename(columns = {'quantity':'Quantity'},inplace = True)\n",
    "display(top_5_colors)\n"
   ]
  },
  {
   "cell_type": "code",
   "execution_count": null,
   "id": "ff24efd8",
   "metadata": {},
   "outputs": [],
   "source": [
    "# Creating visualization to displat the data using plotly\n",
    "print('Figure 5.')\n",
    "import plotly.express as px\n",
    "pd.options.plotting.backend='plotly'\n",
    "colors = ['black', 'lightsteelblue', 'white', 'darkslategray', 'red']\n",
    "fig = px.bar(top_5_colors,x=top_5_colors.index,y='Quantity',color=top_5_colors.index,\n",
    "            color_discrete_sequence=colors,\n",
    "             height=700, width=900,\n",
    "             title='Five most popular Lego colors',\n",
    "             labels={'quantity':'Total quantity'}, \n",
    "             template='plotly_dark')\n",
    "fig.update_xaxes(title=None)\n",
    "fig.update_traces(marker_line_width=1, marker_line_color='white')\n",
    "fig.update_layout(showlegend=False)\n",
    "\n",
    "fig.show()"
   ]
  },
  {
   "cell_type": "markdown",
   "id": "4963da7b",
   "metadata": {},
   "source": [
    "## What are the top 10 Lego themes?"
   ]
  },
  {
   "cell_type": "code",
   "execution_count": null,
   "id": "1c961571",
   "metadata": {},
   "outputs": [],
   "source": [
    "#joining datasets theme and sets to get the name of theme for highest number of sets \n",
    "merge_set_theme=pd.merge(sets,themes, left_on='theme_id', right_on='id')\n",
    "merge_set_theme.head()"
   ]
  },
  {
   "cell_type": "code",
   "execution_count": null,
   "id": "d4601112",
   "metadata": {},
   "outputs": [],
   "source": [
    "# sorting to get the top 10 themes\n",
    "top_10_themes=merge_set_theme.groupby(['name_y'])['set_num'].count().sort_values(ascending=False).head(10)\n",
    "top_10_themes=pd.DataFrame(top_10_themes)\n",
    "top_10_themes = top_10_themes.rename(columns={'set_num': 'Number_of_sets'}, index={'name_y': 'Theme'})\n",
    "display(top_10_themes)"
   ]
  },
  {
   "cell_type": "code",
   "execution_count": null,
   "id": "89909252",
   "metadata": {},
   "outputs": [],
   "source": [
    "# Creating visualization to displat the data using plotly\n",
    "\n",
    "print('Figure 6.')\n",
    "fig = px.bar(top_10_themes, \n",
    "             y=top_10_themes.index,\n",
    "             x='Number_of_sets', \n",
    "             color=top_10_themes.index, \n",
    "             color_continuous_scale='Rainbow_r',  \n",
    "             template='plotly_dark', \n",
    "             labels={'Number_of_sets':'Number of Sets','name_y':'Theme Name'},\n",
    "             title='Top 10 Lego Themes'\n",
    "            )\n",
    "\n",
    "fig.show()"
   ]
  },
  {
   "cell_type": "code",
   "execution_count": null,
   "id": "aeef1b30",
   "metadata": {},
   "outputs": [],
   "source": []
  }
 ],
 "metadata": {
  "kernelspec": {
   "display_name": "Python 3 (ipykernel)",
   "language": "python",
   "name": "python3"
  },
  "language_info": {
   "codemirror_mode": {
    "name": "ipython",
    "version": 3
   },
   "file_extension": ".py",
   "mimetype": "text/x-python",
   "name": "python",
   "nbconvert_exporter": "python",
   "pygments_lexer": "ipython3",
   "version": "3.9.16"
  }
 },
 "nbformat": 4,
 "nbformat_minor": 5
}
